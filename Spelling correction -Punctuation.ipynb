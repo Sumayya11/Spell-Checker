{
 "cells": [
  {
   "cell_type": "code",
   "execution_count": 8,
   "id": "98ccaa2f",
   "metadata": {},
   "outputs": [],
   "source": [
    "#install TextBlob by running below command\n",
    "#pip install TextBlob"
   ]
  },
  {
   "cell_type": "code",
   "execution_count": 5,
   "id": "0da2bff3",
   "metadata": {},
   "outputs": [],
   "source": [
    "from textblob import TextBlob"
   ]
  },
  {
   "cell_type": "code",
   "execution_count": 7,
   "id": "9780ac96",
   "metadata": {},
   "outputs": [
    {
     "name": "stdout",
     "output_type": "stream",
     "text": [
      "Enter your word: eaxmlpe\n",
      "Wrong words:  ['eaxmlpe']\n",
      "Corrected words are: \n",
      "example "
     ]
    }
   ],
   "source": [
    "def Convert(word):\n",
    "    x = list(string.split())\n",
    "    return x\n",
    "string = input(\"Enter your word: \")\n",
    "words = Convert(string)\n",
    "corr_words = []\n",
    "for i in words:\n",
    "    corr_words.append(TextBlob(i))\n",
    "print(\"Wrong words: \",words)\n",
    "print(\"Corrected words are: \")\n",
    "for i in corr_words:\n",
    "    print(i.correct(),end = \" \")"
   ]
  },
  {
   "cell_type": "markdown",
   "id": "48948e7c",
   "metadata": {},
   "source": [
    "#  The below code deals the punctuations in wrongly spelled word"
   ]
  },
  {
   "cell_type": "code",
   "execution_count": 1,
   "id": "4e5f4ac7",
   "metadata": {},
   "outputs": [
    {
     "name": "stdout",
     "output_type": "stream",
     "text": [
      "Enter your word: eax.,mlpe\n",
      "Wrong words:  ['eaxmlpe']\n",
      "Corrected words are: \n",
      "example "
     ]
    }
   ],
   "source": [
    "from textblob import TextBlob\n",
    "import re\n",
    "\n",
    "def Convert(word):\n",
    "    word = re.sub(r'[^a-zA-Z\\s]', '', word)\n",
    "    x = list(word.split())\n",
    "    return x\n",
    "\n",
    "string = input(\"Enter your word: \")\n",
    "words = Convert(string)\n",
    "\n",
    "corr_words = []\n",
    "for i in words:\n",
    "    corr_words.append(TextBlob(i))\n",
    "\n",
    "print(\"Wrong words: \",words)\n",
    "print(\"Corrected words are: \")\n",
    "for i in corr_words:\n",
    "    print(i.correct(),end = \" \")"
   ]
  },
  {
   "cell_type": "code",
   "execution_count": null,
   "id": "e9249d22",
   "metadata": {},
   "outputs": [],
   "source": []
  }
 ],
 "metadata": {
  "kernelspec": {
   "display_name": "Python 3 (ipykernel)",
   "language": "python",
   "name": "python3"
  },
  "language_info": {
   "codemirror_mode": {
    "name": "ipython",
    "version": 3
   },
   "file_extension": ".py",
   "mimetype": "text/x-python",
   "name": "python",
   "nbconvert_exporter": "python",
   "pygments_lexer": "ipython3",
   "version": "3.9.7"
  }
 },
 "nbformat": 4,
 "nbformat_minor": 5
}
